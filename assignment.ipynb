{
 "cells": [
  {
   "cell_type": "code",
   "execution_count": null,
   "id": "cb9fb7dd-6fb3-4f18-96cd-fd2e1d344a50",
   "metadata": {},
   "outputs": [],
   "source": [
    "import pandas as pd\n",
    "import numpy as np\n",
    "import matplotlib.pyplot as plt\n",
    "import seaborn as sns\n",
    "\n",
    "from sklearn.cluster import DBSCAN\n",
    "from geopy.distance import great_circle\n",
    "\n",
    "import folium\n",
    "from folium import plugins\n",
    "from string import Template \n",
    "\n",
    "import warnings\n",
    "warnings.filterwarnings('ignore')"
   ]
  },
  {
   "cell_type": "code",
   "execution_count": null,
   "id": "c76dd639-3ada-419c-a384-b0391a486e97",
   "metadata": {},
   "outputs": [],
   "source": [
    "data = pd.read_csv(\"events.csv\")"
   ]
  },
  {
   "cell_type": "code",
   "execution_count": null,
   "id": "3f876e97-42c8-4141-a3a1-2afb413ef4c5",
   "metadata": {},
   "outputs": [],
   "source": [
    "data.head()"
   ]
  },
  {
   "cell_type": "code",
   "execution_count": null,
   "id": "053cc02c-6a3a-40aa-9bf9-20dc51cb64c4",
   "metadata": {},
   "outputs": [],
   "source": [
    "print(\"Missing values:\\n\", data.isnull().sum())"
   ]
  },
  {
   "cell_type": "code",
   "execution_count": null,
   "id": "bcdd6f90-d460-4462-ad97-a64ba34c5550",
   "metadata": {},
   "outputs": [],
   "source": [
    "data[data[\"county\"].isna()]"
   ]
  },
  {
   "cell_type": "code",
   "execution_count": null,
   "id": "745a2006-242d-4b38-844e-98aa89527e03",
   "metadata": {},
   "outputs": [],
   "source": [
    "data[data[\"city\"].isna()]"
   ]
  },
  {
   "cell_type": "code",
   "execution_count": null,
   "id": "da9f8501-fac4-45fb-8ab6-e7e2d9a70fff",
   "metadata": {},
   "outputs": [],
   "source": [
    "print(\"Summary Statistics:\\n\", data.describe())"
   ]
  },
  {
   "cell_type": "code",
   "execution_count": null,
   "id": "c8b02bf9-cde3-48d1-a355-3c0ec839e435",
   "metadata": {},
   "outputs": [],
   "source": [
    "# event-type distribution\n",
    "plt.figure(figsize=(10, 6))\n",
    "sns.countplot(data=data, x='event-type')\n",
    "plt.title('Distribution of Event Types')\n",
    "plt.xticks(rotation=45)\n",
    "plt.show()"
   ]
  },
  {
   "cell_type": "code",
   "execution_count": null,
   "id": "90147976-d046-431a-b85e-c3c09fcf8b71",
   "metadata": {},
   "outputs": [],
   "source": [
    "#Plot a small sample of the data as it takes too long\n",
    "plot_df = data.sample(10000)\n",
    "\n",
    "# Calculate event counts by location\n",
    "location_counts = plot_df['city'].value_counts().reset_index()\n",
    "location_counts.columns = ['city', 'count']\n",
    "\n",
    "# Create a map centered on a specific location (e.g., mean latitude and longitude)\n",
    "map_center = [plot_df['latitude'].mean(), plot_df['longitude'].mean()]\n",
    "mymap = folium.Map(location=map_center, zoom_start=4)\n",
    "\n",
    "# Add markers for each location with event counts\n",
    "for idx, row in location_counts.iterrows():\n",
    "    folium.CircleMarker(\n",
    "        location=[plot_df.loc[plot_df['city'] == row['city'], 'latitude'].iloc[0],\n",
    "                  plot_df.loc[plot_df['city'] == row['city'], 'longitude'].iloc[0]],\n",
    "        radius=row['count'] / 100,  # Adjust the marker size based on event counts\n",
    "        color='blue',\n",
    "        fill=True,\n",
    "        fill_color='blue',\n",
    "        fill_opacity=0.5,\n",
    "        popup=f\"{row['city']}: {row['count']} events\",\n",
    "    ).add_to(mymap)\n",
    "\n",
    "# Display the map within the Jupyter Notebook\n",
    "mymap"
   ]
  },
  {
   "cell_type": "code",
   "execution_count": null,
   "id": "1c2af268-77a0-4ac7-b726-3251fecda654",
   "metadata": {},
   "outputs": [],
   "source": [
    "#Event Counts by Location\n",
    "location_counts = data['city'].value_counts().nlargest(10)"
   ]
  },
  {
   "cell_type": "code",
   "execution_count": null,
   "id": "d525ec71-1267-40f8-a825-03d7f104d060",
   "metadata": {},
   "outputs": [],
   "source": [
    "plt.figure(figsize=(10, 6))\n",
    "location_counts.plot(kind='bar')\n",
    "plt.title('Top 10 Cities by Number of Events')\n",
    "plt.xlabel('City')\n",
    "plt.ylabel('Number of Events')\n",
    "plt.xticks(rotation=45)\n",
    "plt.show()"
   ]
  },
  {
   "cell_type": "code",
   "execution_count": null,
   "id": "7d7f8d92-0a13-4c53-b02d-6cdd9dcbeee5",
   "metadata": {},
   "outputs": [],
   "source": [
    "#Event Counts by Year\n",
    "data['date'] = pd.to_datetime(data['date'])\n",
    "data['year'] = data['date'].dt.year\n",
    "plt.figure(figsize=(10, 6))\n",
    "sns.countplot(data=data, x='year')\n",
    "plt.title('Number of Events by Year')\n",
    "plt.xlabel('Year')\n",
    "plt.ylabel('Number of Events')\n",
    "plt.xticks(rotation=45)\n",
    "plt.show()"
   ]
  },
  {
   "cell_type": "code",
   "execution_count": null,
   "id": "43ffdea3-f5dc-4139-94bc-ac4ac0b01978",
   "metadata": {},
   "outputs": [],
   "source": [
    "#Correlation Analysis\n",
    "correlation_matrix = data[['latitude', 'longitude']].corr()"
   ]
  },
  {
   "cell_type": "code",
   "execution_count": null,
   "id": "2a301992-dee4-4d41-b55a-06d163ceeb51",
   "metadata": {},
   "outputs": [],
   "source": [
    "plt.figure(figsize=(6, 4))\n",
    "sns.heatmap(correlation_matrix, annot=True, cmap='coolwarm', fmt=\".2f\")\n",
    "plt.title('Correlation Matrix')\n",
    "plt.show()"
   ]
  },
  {
   "cell_type": "code",
   "execution_count": null,
   "id": "a265103b-53d1-460c-9e61-cb3fa024683d",
   "metadata": {},
   "outputs": [],
   "source": [
    "#Outlier Detection\n",
    "plt.figure(figsize=(10, 6))\n",
    "sns.boxplot(data=data[['latitude', 'longitude']])\n",
    "plt.title('Boxplot of Latitude and Longitude')\n",
    "plt.show()"
   ]
  },
  {
   "cell_type": "code",
   "execution_count": null,
   "id": "c29bf880-b0f7-4c9e-aeb3-8f2fa79780c8",
   "metadata": {},
   "outputs": [],
   "source": [
    "#Missing Values Analysis\n",
    "missing_values = data.isnull().sum()\n",
    "\n",
    "plt.figure(figsize=(8, 5))\n",
    "missing_values.plot(kind='bar')\n",
    "plt.title('Missing Values by Column')\n",
    "plt.xlabel('Column')\n",
    "plt.ylabel('Number of Missing Values')\n",
    "plt.xticks(rotation=45)\n",
    "plt.show()"
   ]
  },
  {
   "cell_type": "code",
   "execution_count": null,
   "id": "3cf870f4-9a4d-44a8-b1b8-f870ae394b0b",
   "metadata": {},
   "outputs": [],
   "source": [
    "# Script to calculate total events within 50 KM of a point\n",
    "def count_events_within_radius(latitude, longitude, radius_km):\n",
    "    total_events = 0\n",
    "    for idx, row in data.iterrows():\n",
    "        event_coords = (row['latitude'], row['longitude'])\n",
    "        distance = great_circle((latitude, longitude), event_coords).kilometers\n",
    "        if distance <= radius_km:\n",
    "            total_events += 1\n",
    "    return total_events"
   ]
  },
  {
   "cell_type": "code",
   "execution_count": null,
   "id": "7b7e841e-889b-4596-9216-f194c3f636a1",
   "metadata": {},
   "outputs": [],
   "source": [
    "point_latitude = 40.7128\n",
    "point_longitude = -74.0060\n",
    "radius_km = 50\n",
    "total_events_nearby = count_events_within_radius(point_latitude, point_longitude, radius_km)\n",
    "print(\"Total events within 50 KM of the point:\", total_events_nearby)"
   ]
  },
  {
   "cell_type": "code",
   "execution_count": null,
   "id": "efb40c69-a717-4b2d-80d7-971ac78e3052",
   "metadata": {},
   "outputs": [],
   "source": [
    "# Visualize the clusters on a map\n",
    "map_center = [data['latitude'].mean(), data['longitude'].mean()]\n",
    "mymap = folium.Map(location=map_center, zoom_start=4)\n",
    "\n",
    "def clusters_by_event_type(event_type, color):\n",
    "    plot_Data = data[data[\"event-type\"]==event_type]\n",
    "    \n",
    "    # Extract latitude and longitude\n",
    "    coords = plot_Data[['latitude', 'longitude']].values\n",
    "    \n",
    "    # Perform DBSCAN clustering\n",
    "    epsilon = 10 / kms_per_radian  # Adjust epsilon (neighborhood radius) as needed\n",
    "    min_samples = 10  # Adjust min_samples as needed\n",
    "    dbscan = DBSCAN(eps=epsilon, min_samples=min_samples, metric='euclidean').fit(coords)\n",
    "    plot_Data['cluster'] = dbscan.labels_\n",
    "\n",
    "    \n",
    "    # Add markers for each cluster\n",
    "    for cluster_id in set(plot_Data['cluster']):\n",
    "        if cluster_id != -1:  # Exclude noise points (cluster_id=-1)\n",
    "            cluster_data = plot_Data[plot_Data['cluster'] == cluster_id]\n",
    "            cluster_center = [cluster_data['latitude'].mean(), cluster_data['longitude'].mean()]\n",
    "            folium.CircleMarker(\n",
    "                radius=row['count'] / 100,\n",
    "                location=cluster_center,\n",
    "                fill=True,\n",
    "                color=color,\n",
    "                fill_color=color\n",
    "                # popup=f\"Cluster {cluster_id}\",\n",
    "                #icon=folium.Icon(color='red')\n",
    "            ).add_to(mymap)\n",
    "\n",
    "\n",
    "legend_string_template = Template('&nbsp; $cluster &nbsp; <i class=\"fa fa-circle fa-2x\" style=\"color:$color\"></i><br>')\n",
    "legend_string = '''\n",
    "     <div style=\"position: fixed; \n",
    "         bottom: 50px; right: 50px; width: 200px; height: 200px; \n",
    "         border:2px solid grey; z-index:9999; font-size:14px;\n",
    "    \">\n",
    "    &nbsp; LEGEND <br>'''\n",
    "\n",
    "event_types = data['event-type'].unique()\n",
    "colors = ['red', 'blue', 'green', 'purple', 'orange', 'lightgreen']\n",
    "for event_type, color in zip(event_types, colors):\n",
    "    clusters_by_event_type(event_type, color)\n",
    "    legend_string+=legend_string_template.substitute({'cluster':event_type, 'color':color})\n",
    "\n",
    "legend_string+='</div>'\n",
    "\n",
    "mymap.get_root().html.add_child(folium.Element(legend_string))\n",
    "\n",
    "# Display the map with cluster markers\n",
    "mymap"
   ]
  },
  {
   "cell_type": "code",
   "execution_count": null,
   "id": "fa5946cd-13e0-4ce1-8c5c-1c96759449fc",
   "metadata": {},
   "outputs": [],
   "source": []
  },
  {
   "cell_type": "code",
   "execution_count": null,
   "id": "ea90b72b-4602-4f0b-a9bb-f8444d677dcd",
   "metadata": {},
   "outputs": [],
   "source": []
  },
  {
   "cell_type": "code",
   "execution_count": null,
   "id": "1226b9fd-6c03-4e46-86fb-9a9e0eedcd0e",
   "metadata": {},
   "outputs": [],
   "source": []
  },
  {
   "cell_type": "code",
   "execution_count": null,
   "id": "c25eec38-6757-4aef-ac4f-392b54fa3699",
   "metadata": {},
   "outputs": [],
   "source": []
  },
  {
   "cell_type": "code",
   "execution_count": null,
   "id": "e43d476e-2d44-4569-a9a3-48a42b3a1ee8",
   "metadata": {},
   "outputs": [],
   "source": []
  },
  {
   "cell_type": "code",
   "execution_count": null,
   "id": "85613c94-e01e-49f2-927e-26d9a75aef40",
   "metadata": {},
   "outputs": [],
   "source": []
  },
  {
   "cell_type": "code",
   "execution_count": null,
   "id": "6a9fe788-369d-41b9-83c9-ee5ccb314306",
   "metadata": {},
   "outputs": [],
   "source": []
  },
  {
   "cell_type": "code",
   "execution_count": null,
   "id": "076664ca-9597-4113-8801-7d7efee6b21a",
   "metadata": {},
   "outputs": [],
   "source": []
  },
  {
   "cell_type": "code",
   "execution_count": null,
   "id": "76316445-022b-4194-bbd3-e89d23f46017",
   "metadata": {},
   "outputs": [],
   "source": []
  },
  {
   "cell_type": "code",
   "execution_count": null,
   "id": "6e81b13b-1935-45e9-ac87-57e17f735e23",
   "metadata": {},
   "outputs": [],
   "source": []
  },
  {
   "cell_type": "code",
   "execution_count": null,
   "id": "2831edb1-7968-4fbb-bf77-121ed8080f9c",
   "metadata": {},
   "outputs": [],
   "source": []
  },
  {
   "cell_type": "code",
   "execution_count": null,
   "id": "3b3b24e4-9238-4b3f-851e-c584ee315a67",
   "metadata": {},
   "outputs": [],
   "source": []
  }
 ],
 "metadata": {
  "kernelspec": {
   "display_name": "python3",
   "language": "python",
   "name": "python3"
  }
 },
 "nbformat": 4,
 "nbformat_minor": 5
}
